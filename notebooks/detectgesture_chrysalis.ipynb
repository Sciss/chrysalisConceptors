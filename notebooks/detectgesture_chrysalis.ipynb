{
 "cells": [
  {
   "cell_type": "code",
   "execution_count": null,
   "metadata": {
    "collapsed": true
   },
   "outputs": [],
   "source": [
    "## load the conceptors code\n",
    "%run ../python/conceptors.py"
   ]
  },
  {
   "cell_type": "code",
   "execution_count": null,
   "metadata": {
    "collapsed": true
   },
   "outputs": [],
   "source": [
    "# load the network that we have saved before\n",
    "net1 = loadObject( \"../models/classifier_1_1505307539.311748.pickled\" )\n",
    "net2 = loadObject( \"../models/classifier_2_1505309031.43108.pickled\" )\n",
    "net3 = loadObject( \"../models/classifier_3_1505308301.813862.pickled\" )\n",
    "\n",
    "# create an initial state for the net\n",
    "state1 = createState(net1)\n",
    "state2 = createState(net2)\n",
    "state3 = createState(net3)"
   ]
  },
  {
   "cell_type": "code",
   "execution_count": null,
   "metadata": {},
   "outputs": [],
   "source": [
    "# net1['C']\n",
    "# net3['C'].shape\n",
    "# 128 , 32 , 64"
   ]
  },
  {
   "cell_type": "code",
   "execution_count": null,
   "metadata": {},
   "outputs": [],
   "source": [
    "## load the functions for receiving and sending osc\n",
    "%run ../python/oscserver.py\n",
    "\n",
    "inputValues = [ 0, 0, 0 ]\n",
    "\n",
    "def onInput(ind,f):\n",
    "    global inputValue\n",
    "    inputValues[ind] = f\n",
    "    return True\n",
    "\n",
    "def onExit():\n",
    "    print( \"exiting\" )\n",
    "    global keepRunning\n",
    "    keepRunning = False\n",
    "    oscserver.free()\n",
    "    return True\n",
    "\n",
    "oscserver = makeOSCServer(57120, 57401, onExit)\n",
    "oscserver.onInput = onInput\n",
    "\n",
    "oscserver.start()"
   ]
  },
  {
   "cell_type": "code",
   "execution_count": null,
   "metadata": {},
   "outputs": [],
   "source": [
    "import time\n",
    "\n",
    "keepRunning = True\n",
    "\n",
    "while keepRunning:\n",
    "    state1 = iterateClassifier(net1, state1, inputValues[0])\n",
    "    state2 = iterateClassifier(net2, state2, inputValues[1])\n",
    "    state3 = iterateClassifier(net3, state3, inputValues[2])\n",
    "#     print( state['x'] )\n",
    "#     oscserver.send_value( \"/output/1\", output1[0][0] )\n",
    "    oscserver.send_array( \"/x/CL1\", state1['x'].flatten() )\n",
    "    oscserver.send_array( \"/x/CL2\", state2['x'].flatten() )\n",
    "    oscserver.send_array( \"/x/CL3\", state3['x'].flatten() )\n",
    "    \n",
    "    oscserver.send_array( \"/evidence/CL1\", state1['evidence'] )  \n",
    "    oscserver.send_array( \"/evidence/CL2\", state2['evidence'] )  \n",
    "    oscserver.send_array( \"/evidence/CL3\", state3['evidence'] )  \n",
    "    time.sleep(0.033)\n"
   ]
  },
  {
   "cell_type": "code",
   "execution_count": null,
   "metadata": {
    "collapsed": true
   },
   "outputs": [],
   "source": []
  },
  {
   "cell_type": "code",
   "execution_count": null,
   "metadata": {
    "collapsed": true
   },
   "outputs": [],
   "source": [
    "# just in case; free the oscserver\n",
    "oscserver.free()"
   ]
  },
  {
   "cell_type": "code",
   "execution_count": null,
   "metadata": {
    "collapsed": true
   },
   "outputs": [],
   "source": []
  }
 ],
 "metadata": {
  "kernelspec": {
   "display_name": "Python 3",
   "language": "python",
   "name": "python3"
  },
  "language_info": {
   "codemirror_mode": {
    "name": "ipython",
    "version": 3
   },
   "file_extension": ".py",
   "mimetype": "text/x-python",
   "name": "python",
   "nbconvert_exporter": "python",
   "pygments_lexer": "ipython3",
   "version": "3.5.2"
  }
 },
 "nbformat": 4,
 "nbformat_minor": 2
}
