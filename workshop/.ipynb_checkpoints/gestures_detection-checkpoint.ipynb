{
 "cells": [
  {
   "cell_type": "code",
   "execution_count": null,
   "metadata": {
    "collapsed": true
   },
   "outputs": [],
   "source": [
    "# loads numpy and matplotlib\n",
    "%pylab inline\n",
    "\n",
    "# imports functions to interact with operating system\n",
    "import os\n"
   ]
  },
  {
   "cell_type": "code",
   "execution_count": null,
   "metadata": {
    "collapsed": true
   },
   "outputs": [],
   "source": [
    "# get current working path\n",
    "cwd = os.getcwd()\n",
    "print( cwd )\n",
    "\n",
    "# load gesture 1\n",
    "gesture1 = np.loadtxt(cwd + '/gesturedata_0.txt')\n",
    "gesture2 = np.loadtxt(cwd + '/gesturedata_1.txt')\n",
    "\n",
    "# plot the two gestures\n",
    "figsize(20,8);\n",
    "\n",
    "plot( gesture1 )\n",
    "plot( gesture2 )"
   ]
  },
  {
   "cell_type": "code",
   "execution_count": null,
   "metadata": {
    "collapsed": true
   },
   "outputs": [],
   "source": []
  }
 ],
 "metadata": {
  "kernelspec": {
   "display_name": "Python 3",
   "language": "python",
   "name": "python3"
  },
  "language_info": {
   "codemirror_mode": {
    "name": "ipython",
    "version": 3
   },
   "file_extension": ".py",
   "mimetype": "text/x-python",
   "name": "python",
   "nbconvert_exporter": "python",
   "pygments_lexer": "ipython3",
   "version": "3.6.1"
  }
 },
 "nbformat": 4,
 "nbformat_minor": 2
}
