{
 "cells": [
  {
   "cell_type": "code",
   "execution_count": null,
   "metadata": {},
   "outputs": [],
   "source": [
    "# loads numpy and matplotlib\n",
    "%pylab inline\n",
    "\n",
    "# imports functions to interact with operating system\n",
    "import os\n"
   ]
  },
  {
   "cell_type": "code",
   "execution_count": null,
   "metadata": {},
   "outputs": [],
   "source": [
    "# get current working path\n",
    "cwd = os.getcwd()\n",
    "print( cwd )\n",
    "\n",
    "# load gesture 1\n",
    "gesture1 = np.loadtxt(cwd + '/gesturedata_0.txt')\n",
    "gesture2 = np.loadtxt(cwd + '/gesturedata_1.txt')\n",
    "\n",
    "# plot the two gestures\n",
    "figsize(20,8);\n",
    "\n",
    "plot( gesture1 )\n",
    "plot( gesture2 )"
   ]
  },
  {
   "cell_type": "code",
   "execution_count": null,
   "metadata": {},
   "outputs": [],
   "source": [
    "# to normalize the two gestures to each other, we find the maximum value in the two arrays:\n",
    "maxValue = max( max(gesture1), max(gesture2) )\n",
    "\n",
    "print( maxValue )\n",
    "\n",
    "# scale the gestures and make bipolar:\n",
    "\n",
    "gesture1 = (gesture1 / maxValue)*2 - 1;\n",
    "gesture2 = (gesture2 / maxValue)*2 - 1;\n",
    "\n",
    "# plot it again: looks the same, but scale on the y-axis is now between -1 and 1\n",
    "plot( gesture1 )\n",
    "plot( gesture2 )"
   ]
  },
  {
   "cell_type": "code",
   "execution_count": null,
   "metadata": {},
   "outputs": [],
   "source": [
    "## conceptor code\n",
    "%run ../python/conceptors.py\n",
    "\n",
    "## osc server code\n",
    "%run ../python/oscserver.py"
   ]
  },
  {
   "cell_type": "code",
   "execution_count": null,
   "metadata": {},
   "outputs": [],
   "source": []
  },
  {
   "cell_type": "code",
   "execution_count": null,
   "metadata": {
    "collapsed": true
   },
   "outputs": [],
   "source": []
  }
 ],
 "metadata": {
  "kernelspec": {
   "display_name": "Python 3",
   "language": "python",
   "name": "python3"
  },
  "language_info": {
   "codemirror_mode": {
    "name": "ipython",
    "version": 3
   },
   "file_extension": ".py",
   "mimetype": "text/x-python",
   "name": "python",
   "nbconvert_exporter": "python",
   "pygments_lexer": "ipython3",
   "version": "3.5.2"
  }
 },
 "nbformat": 4,
 "nbformat_minor": 2
}
