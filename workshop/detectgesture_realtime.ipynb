{
 "cells": [
  {
   "cell_type": "code",
   "execution_count": null,
   "metadata": {
    "collapsed": true
   },
   "outputs": [],
   "source": [
    "## load the conceptors code\n",
    "%run ../python/conceptors.py"
   ]
  },
  {
   "cell_type": "code",
   "execution_count": null,
   "metadata": {
    "collapsed": true
   },
   "outputs": [],
   "source": [
    "# load the network that we have saved before\n",
    "net = loadObject( \"net.pickle\" )\n",
    "\n",
    "# create an initial state for the net\n",
    "state = createState(net)"
   ]
  },
  {
   "cell_type": "code",
   "execution_count": null,
   "metadata": {
    "collapsed": true
   },
   "outputs": [],
   "source": [
    "## load the functions for receiving and sending osc\n",
    "%run ../python/oscserver.py\n",
    "\n",
    "inputValue = 0\n",
    "\n",
    "def onInput(ind,f):\n",
    "    global inputValue\n",
    "#     print(\"onInput\", f)\n",
    "    inputValue = f\n",
    "    return True\n",
    "\n",
    "def onExit():\n",
    "    print( \"exiting\" )\n",
    "    global keepRunning\n",
    "    keepRunning = False\n",
    "    oscserver.free()\n",
    "    return True\n",
    "\n",
    "oscserver = makeOSCServer(57120, onExit)\n",
    "oscserver.onInput = onInput\n",
    "\n",
    "oscserver.start()"
   ]
  },
  {
   "cell_type": "code",
   "execution_count": null,
   "metadata": {
    "collapsed": true
   },
   "outputs": [],
   "source": [
    "import time\n",
    "\n",
    "keepRunning = True\n",
    "\n",
    "while keepRunning:\n",
    "    state = iterateClassifier(net, state, inputValue)\n",
    "#     print( state['x'] )\n",
    "    oscserver.send_array( \"/x/1\", state['x'].flatten() )\n",
    "    oscserver.send_array( \"/evidence\", state['evidence'] )  \n",
    "    time.sleep(0.033)\n"
   ]
  },
  {
   "cell_type": "code",
   "execution_count": null,
   "metadata": {
    "collapsed": true
   },
   "outputs": [],
   "source": []
  },
  {
   "cell_type": "code",
   "execution_count": null,
   "metadata": {
    "collapsed": true
   },
   "outputs": [],
   "source": [
    "# just in case; free the oscserver\n",
    "oscserver.free()"
   ]
  },
  {
   "cell_type": "code",
   "execution_count": null,
   "metadata": {
    "collapsed": true
   },
   "outputs": [],
   "source": []
  }
 ],
 "metadata": {
  "kernelspec": {
   "display_name": "Python 3",
   "language": "python",
   "name": "python3"
  },
  "language_info": {
   "codemirror_mode": {
    "name": "ipython",
    "version": 3
   },
   "file_extension": ".py",
   "mimetype": "text/x-python",
   "name": "python",
   "nbconvert_exporter": "python",
   "pygments_lexer": "ipython3",
   "version": "3.5.2"
  }
 },
 "nbformat": 4,
 "nbformat_minor": 2
}
