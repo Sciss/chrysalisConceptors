{
 "cells": [
  {
   "cell_type": "code",
   "execution_count": null,
   "metadata": {},
   "outputs": [],
   "source": [
    "%run conceptors.py"
   ]
  },
  {
   "cell_type": "code",
   "execution_count": null,
   "metadata": {},
   "outputs": [],
   "source": [
    "%pylab inline"
   ]
  },
  {
   "cell_type": "code",
   "execution_count": null,
   "metadata": {
    "collapsed": true
   },
   "outputs": [],
   "source": [
    "\n",
    "# making some waveform patterns that we might use\n",
    "pSaw = lambda n: (round(n % waveLengthSamples) / waveLengthSamples * 2) - 1.0\n",
    "pPulse = lambda n: (((n % waveLengthSamples) < (waveLengthSamples * 0.5)) * 2) - 1.0\n",
    "pSine2 = lambda n: (np.sin(n) * np.sin((n+np.pi/4)/6))\n",
    "pSine3 = lambda n: (np.sin(n) * np.sin((n/4)/6)/6)\n",
    "pJ1 = lambda n: 1 * np.sin(2 * np.pi * n / 3.1504531)\n",
    "pJ1b = lambda n: 1 * np.sin(n/2) ** 1\n",
    "\n",
    "period2 = 2\n",
    "rawp = np.random.randn(period2)\n",
    "# rawp = np.array([1.1929,2.6856]);\n",
    "maxVal = np.max(rawp)\n",
    "minVal = np.min(rawp)\n",
    "rp = 0.5 * (2 * (rawp - minVal) / (maxVal - minVal) - 1);\n",
    "pJ2 = lambda n: rp[np.mod(n, period2 )]\n",
    "pTri = lambda n,p: (((n % p) >= (p/2)) * ((p/2) - (n % (p/2))) + ((n % p) < (p/2)) * (n % (p/2))) * (2/p)\n",
    "\n"
   ]
  },
  {
   "cell_type": "code",
   "execution_count": null,
   "metadata": {},
   "outputs": [],
   "source": [
    "figsize(20,4)\n",
    "# plot([pJ1b(x) for x in arange(15)])\n",
    "# plot([pJ1(x) for x in arange(15)])\n",
    "# plot([pJ2(x) for x in arange(15)])\n",
    "plot([pSine2(x) for x in arange(15)])\n",
    "\n",
    "# plot([pTri(x,10) for x in arange(10)])"
   ]
  },
  {
   "cell_type": "code",
   "execution_count": null,
   "metadata": {},
   "outputs": [],
   "source": [
    "params = {'N':30, \n",
    "          'NetSR':0.6, # was 1.6; scaling for internal weights: according to ESN tutorial, this one should actually be < 1\n",
    "          'NetinpScaling':1.6, # scaling for input weights\n",
    "          'BiasScaling':0.3, # scaling for bias\n",
    "          'TychonovAlpha':0.0001,\n",
    "          'TychonovAlphaReadout':0.0001,\n",
    "          'washoutLength':100, 'learnLength':500, \n",
    "          'learnLengthWout':500, \n",
    "          'recallTestLength':100,\n",
    "          'alphas':np.array([12.0,24.0,36.0]),\n",
    "          'patts':np.array([pJ1b, pJ2,pSine2])\n",
    "}\n",
    "\n",
    "net1 = makeNetwork(params)\n"
   ]
  },
  {
   "cell_type": "code",
   "execution_count": null,
   "metadata": {},
   "outputs": [],
   "source": [
    "net2 = makeNetwork(params)\n",
    "net3 = makeNetwork(params)\n"
   ]
  },
  {
   "cell_type": "code",
   "execution_count": null,
   "metadata": {},
   "outputs": [],
   "source": [
    "morphValues = [1,0,0,1,0,0,1,0,0]\n",
    "\n",
    "def onMorph(ind,f):\n",
    "    global morphValues\n",
    "#     print(\"onMorph\", f)\n",
    "    morphValues[ind] = f\n",
    "    return morphValues\n",
    "\n",
    "def onExit():\n",
    "    print( \"exiting\" )\n",
    "    global keepRunning\n",
    "    keepRunning = False\n",
    "    return True\n",
    "\n",
    "oscserver = makeOSCServer(onMorph,onExit)"
   ]
  },
  {
   "cell_type": "code",
   "execution_count": null,
   "metadata": {
    "scrolled": true
   },
   "outputs": [],
   "source": [
    "import time\n",
    "\n",
    "keepRunning = True\n",
    "\n",
    "#run a network\n",
    "x1 = 0.5 * np.random.randn(net1['p']['N'],1)\n",
    "x2 = 0.5 * np.random.randn(net2['p']['N'],1)\n",
    "x3 = 0.5 * np.random.randn(net3['p']['N'],1)\n",
    "\n",
    "while keepRunning:\n",
    "#     print( morphValues )\n",
    "    # net 1\n",
    "    output1, x1 = conceptor_mix_step( net1, x1, morphValues[0:3] )\n",
    "    oscserver.send_value( \"/output/1\", output1[0][0] )\n",
    "    oscserver.send_array( \"/x/1\", x1.flatten() )\n",
    "    \n",
    "    # net 2\n",
    "    output2, x2 = conceptor_mix_step( net2, x2, morphValues[3:6] )\n",
    "    oscserver.send_value( \"/output/2\", output2[0][0] )\n",
    "    oscserver.send_array( \"/x/2\", x2.flatten() )\n",
    "\n",
    "    # net 3\n",
    "    output3, x3 = conceptor_mix_step( net3, x3, morphValues[6:9] )\n",
    "    oscserver.send_value( \"/output/3\", output3[0][0] )\n",
    "    oscserver.send_array( \"/x/3\", x3.flatten() )\n",
    "    \n",
    "    time.sleep(0.01)\n",
    "    "
   ]
  },
  {
   "cell_type": "code",
   "execution_count": null,
   "metadata": {
    "collapsed": true
   },
   "outputs": [],
   "source": []
  },
  {
   "cell_type": "code",
   "execution_count": null,
   "metadata": {
    "collapsed": true
   },
   "outputs": [],
   "source": [
    "def conceptor_mix_step( net, x, morphvalues, oversample=1 ):\n",
    "    ind = 0\n",
    "    C = np.zeros( (net['p']['N'] , net['p']['N'] ) )\n",
    "    for i_morph in morphvalues:\n",
    "        C = C + (net['Cs'][0,ind].dot( i_morph ))\n",
    "        ind = ind + 1\n",
    "    Wsr = net['W'].dot(1.2)\n",
    "    for i_oversample in range( oversample ):\n",
    "        x = np.tanh(Wsr.dot(x) + net['Wbias'])\n",
    "        x = C.dot(x)\n",
    "    output = net1['Wout'].dot(x)\n",
    "    return output, x\n"
   ]
  },
  {
   "cell_type": "code",
   "execution_count": null,
   "metadata": {},
   "outputs": [],
   "source": [
    "print( net1['p']['N'] )\n",
    "print( morphValues[0:3], morphValues[3:6], morphValues[6:9])\n",
    "morphFactors = morphValues[0:3]\n",
    "a, b = conceptor_mix_step( net1, x1, morphFactors )\n",
    "print( a )\n",
    "print( b )"
   ]
  },
  {
   "cell_type": "code",
   "execution_count": null,
   "metadata": {},
   "outputs": [],
   "source": [
    "morphValues"
   ]
  },
  {
   "cell_type": "code",
   "execution_count": null,
   "metadata": {},
   "outputs": [],
   "source": [
    "#test OSC\n",
    "try:\n",
    "    target = Address(57400)\n",
    "except AddressError as err:\n",
    "    print (str(err))\n",
    "    sys.exit()\n",
    "\n",
    "# send message \"/foo/message1\" with int, float and string arguments\n",
    "send(target, \"/morph\", 0.3)"
   ]
  },
  {
   "cell_type": "code",
   "execution_count": null,
   "metadata": {},
   "outputs": [],
   "source": [
    "a = [ 0, 2, 4]\n",
    "oscserver.send_array(\"/morph\", a)"
   ]
  },
  {
   "cell_type": "code",
   "execution_count": null,
   "metadata": {
    "collapsed": true
   },
   "outputs": [],
   "source": []
  }
 ],
 "metadata": {
  "kernelspec": {
   "display_name": "Python 3",
   "language": "python",
   "name": "python3"
  },
  "language_info": {
   "codemirror_mode": {
    "name": "ipython",
    "version": 3
   },
   "file_extension": ".py",
   "mimetype": "text/x-python",
   "name": "python",
   "nbconvert_exporter": "python",
   "pygments_lexer": "ipython3",
   "version": "3.5.2"
  }
 },
 "nbformat": 4,
 "nbformat_minor": 2
}
