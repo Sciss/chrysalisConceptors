{
 "cells": [
  {
   "cell_type": "code",
   "execution_count": null,
   "metadata": {
    "collapsed": true
   },
   "outputs": [],
   "source": [
    "%run conceptors.py"
   ]
  },
  {
   "cell_type": "code",
   "execution_count": null,
   "metadata": {},
   "outputs": [],
   "source": [
    "%pylab inline"
   ]
  },
  {
   "cell_type": "code",
   "execution_count": null,
   "metadata": {
    "collapsed": true
   },
   "outputs": [],
   "source": [
    "\n",
    "# making some waveform patterns that we might use\n",
    "pSaw = lambda n: (round(n % waveLengthSamples) / waveLengthSamples * 2) - 1.0\n",
    "pPulse = lambda n: (((n % waveLengthSamples) < (waveLengthSamples * 0.5)) * 2) - 1.0\n",
    "pSine2 = lambda n: (np.sin(n) * np.sin((n+np.pi/4)/6))\n",
    "pSine3 = lambda n: (np.sin(n) * np.sin((n/4)/6)/6)\n",
    "pJ1 = lambda n: 1 * np.sin(2 * np.pi * n / 3.1504531)\n",
    "pJ1b = lambda n: 1 * np.sin(n/2) ** 1\n",
    "\n",
    "period2 = 2\n",
    "rawp = np.random.randn(period2)\n",
    "# rawp = np.array([1.1929,2.6856]);\n",
    "maxVal = np.max(rawp)\n",
    "minVal = np.min(rawp)\n",
    "rp = 0.5 * (2 * (rawp - minVal) / (maxVal - minVal) - 1);\n",
    "pJ2 = lambda n: rp[np.mod(n, period2 )]\n",
    "pTri = lambda n,p: (((n % p) >= (p/2)) * ((p/2) - (n % (p/2))) + ((n % p) < (p/2)) * (n % (p/2))) * (2/p)\n",
    "\n"
   ]
  },
  {
   "cell_type": "code",
   "execution_count": null,
   "metadata": {},
   "outputs": [],
   "source": [
    "figsize(20,4)\n",
    "# plot([pJ1b(x) for x in arange(15)])\n",
    "# plot([pJ1(x) for x in arange(15)])\n",
    "# plot([pJ2(x) for x in arange(15)])\n",
    "plot([pSine2(x) for x in arange(15)])\n",
    "\n",
    "# plot([pTri(x,10) for x in arange(10)])"
   ]
  },
  {
   "cell_type": "code",
   "execution_count": null,
   "metadata": {},
   "outputs": [],
   "source": [
    "params = {'N':30, 'NetSR':1.6, 'NetinpScaling':1.6,'BiasScaling':0.3,'TychonovAlpha':0.0001,\n",
    "         'washoutLength':100, 'learnLength':500, 'TychonovAlphaReadout':0.0001,\n",
    "         'learnLengthWout':500, 'recallTestLength':100,\n",
    "         'alphas':np.array([12.0,24.0,36.0]),\n",
    "          'patts':np.array([pJ1b, pJ2,pSine2])\n",
    "}\n",
    "\n",
    "net = makeNetwork(params)\n"
   ]
  },
  {
   "cell_type": "code",
   "execution_count": null,
   "metadata": {},
   "outputs": [],
   "source": [
    "morphValues = [1,0,0]\n",
    "\n",
    "def onMorph(ind,f):\n",
    "    global morphValues\n",
    "#     print(\"onMorph\", f)\n",
    "    morphValues[ind] = f\n",
    "    return morphValues\n",
    "\n",
    "def onExit():\n",
    "    print( \"exiting\" )\n",
    "    global keepRunning\n",
    "    keepRunning = False\n",
    "    return True\n",
    "\n",
    "oscserver = makeOSCServer(onMorph,onExit)"
   ]
  },
  {
   "cell_type": "code",
   "execution_count": null,
   "metadata": {},
   "outputs": [],
   "source": [
    "import time\n",
    "\n",
    "#run a network\n",
    "x = 0.5 * np.random.randn(net['p']['N'],1)\n",
    "keepRunning = True\n",
    "\n",
    "while keepRunning:\n",
    "#     pos = morphValue\n",
    "    C = (net['Cs'][0,0].dot(morphValues[0])) + (net['Cs'][0,1].dot((morphValues[1]))) + (net['Cs'][0,2].dot((morphValues[2])))\n",
    "    Wsr = net['W'].dot(1.2)\n",
    "    for i_oversample in range(1):\n",
    "        x = np.tanh(Wsr.dot(x) + net['Wbias'])\n",
    "        x = C.dot(x)\n",
    "    #x_CTestPL[:,n-p['washoutLength'],i_pattern] = x[0:3].T\n",
    "    output = net['Wout'].dot(x)\n",
    "#     print( output )\n",
    "#     print( x.flatten() )\n",
    "    oscserver.send_value( \"/output\", output[0][0] )\n",
    "    oscserver.send_array( \"/x\", x.flatten() )\n",
    "    time.sleep(0.01)\n",
    "    "
   ]
  },
  {
   "cell_type": "code",
   "execution_count": null,
   "metadata": {
    "collapsed": true
   },
   "outputs": [],
   "source": []
  },
  {
   "cell_type": "code",
   "execution_count": null,
   "metadata": {},
   "outputs": [],
   "source": [
    "#test OSC\n",
    "try:\n",
    "    target = Address(57400)\n",
    "except AddressError as err:\n",
    "    print (str(err))\n",
    "    sys.exit()\n",
    "\n",
    "# send message \"/foo/message1\" with int, float and string arguments\n",
    "send(target, \"/morph\", 0.3)"
   ]
  },
  {
   "cell_type": "code",
   "execution_count": null,
   "metadata": {},
   "outputs": [],
   "source": [
    "a = [ 0, 2, 4]\n",
    "oscserver.send_array(\"/morph\", a)"
   ]
  },
  {
   "cell_type": "code",
   "execution_count": null,
   "metadata": {
    "collapsed": true
   },
   "outputs": [],
   "source": []
  }
 ],
 "metadata": {
  "kernelspec": {
   "display_name": "Python 3",
   "language": "python",
   "name": "python3"
  },
  "language_info": {
   "codemirror_mode": {
    "name": "ipython",
    "version": 3
   },
   "file_extension": ".py",
   "mimetype": "text/x-python",
   "name": "python",
   "nbconvert_exporter": "python",
   "pygments_lexer": "ipython3",
   "version": "3.5.2"
  }
 },
 "nbformat": 4,
 "nbformat_minor": 2
}
